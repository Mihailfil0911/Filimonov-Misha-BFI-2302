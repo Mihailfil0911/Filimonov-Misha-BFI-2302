{
 "cells": [
  {
   "cell_type": "markdown",
   "metadata": {
    "id": "0z3KlfKDn4_K"
   },
   "source": [
    "# Лабораторная работа 3.\n",
    "# Сетевые алгоритмы. Динамические алгоритмы поиска путей.\n"
   ]
  },
  {
   "cell_type": "markdown",
   "metadata": {
    "id": "96Gi_LEvmSVH"
   },
   "source": [
    "## Выполнил студент группы БФИ2302 Филимонов Михаил Алексеевич\n",
    "***"
   ]
  },
  {
   "cell_type": "markdown",
   "metadata": {
    "id": "GjdIp8aToKIe"
   },
   "source": [
    "### Задание\n",
    "\n",
    "1.  Реализовать алгоритм поиска кратчайшего расстояния между двумя вершинами ориентированного взвешенного графа в соответствии с вариантом.\n",
    "\n",
    "2.  Предусмотреть задание графа в виде матрицы смежности/инцидентности, читаемой из файла, либо графически с помощью пользовательского интерфейса.\n",
    "\n",
    "3.  Разработать графический интерфейс пользователя с визуализацией графа и отображением кратчайшего расстояния между задаваемыми пользователем вершинами.\n",
    "\n",
    "4. По результатам работы проанализировать временную сложность работы заданного алгоритма в зависимости от числа узлов и ребер графа.\n",
    "Данные представить в виде таблицы.\n",
    "\n"
   ]
  },
  {
   "cell_type": "markdown",
   "metadata": {
    "id": "LhhUXrAmotIA"
   },
   "source": [
    "### Алгоритмы:\n",
    "\n",
    "Алгоритм Флойда-Уоршелла| Алгоритм Дейкстры | Алгоритм Беллмана-Форда | Алгоритм Джонсона| Алгоритм Левита | Алгоритм Йена\n",
    "\n"
   ]
  },
  {
   "cell_type": "code",
   "execution_count": 1,
   "metadata": {
    "executionInfo": {
     "elapsed": 6977,
     "status": "ok",
     "timestamp": 1742279230167,
     "user": {
      "displayName": "Ngungui Mazembe",
      "userId": "16166709129145843835"
     },
     "user_tz": -180
    },
    "id": "xOqYQG24Sb3l"
   },
   "outputs": [],
   "source": [
    "import numpy as np\n",
    "import networkx as nx\n",
    "import matplotlib.pyplot as plt\n",
    "import pandas as pd\n",
    "import time\n",
    "import heapq\n",
    "from IPython.display import display\n"
   ]
  },
  {
   "cell_type": "code",
   "execution_count": 2,
   "metadata": {
    "executionInfo": {
     "elapsed": 62,
     "status": "ok",
     "timestamp": 1742279236337,
     "user": {
      "displayName": "Ngungui Mazembe",
      "userId": "16166709129145843835"
     },
     "user_tz": -180
    },
    "id": "cYZApIBzSdXw"
   },
   "outputs": [],
   "source": [
    "#Алгоритм Флойда-Уоршелла (поиск кратчайших путей в графах)\n",
    "def floyd_warshall(adj_matrix): # Ф-ия принимает на вход матрицу смежности \n",
    "    num_nodes = len(adj_matrix) # Определяет количество вершин в графе как размерность матрицы смежности.\n",
    "    dist = adj_matrix.copy() # Создает копию матрицы смежности и сохраняет её,используется для хранения оценок кратчайших расстояний между всеми парами вершин\n",
    "    for k in range(num_nodes): # цикл перебирает все вершины графа, от 0 до num_nodes - 1 (k пром)\n",
    "        for i in range(num_nodes): # цикл перебирает все вершины графа, от 0 до num_nodes - 1 (i нач)\n",
    "            for j in range(num_nodes): # цикл перебирает все вершины графа, от 0 до num_nodes - 1 (j кон)\n",
    "                if dist[i][k] and dist[k][j]: # Проверяет, существует ли путь от вершины i до вершины k и от вершины k до вершины j \n",
    "                    new_distance = dist[i][k] + dist[k][j] # Если путь от i до k и от k до j существует, вычисляется расстояние от i до j через вершину k\n",
    "                    if dist[i][j] == 0 or new_distance < dist[i][j]: # Проверяет, является ли путь от i до j через k короче, чем известный кратчайший путь от i до j. dist[i][j] == 0 означает, что ранее путь между вершинами i и j считался бесконечным\n",
    "                        dist[i][j] = new_distance # Если путь через k короче, обновляет dist[i][j] новым, более коротким расстоянием\n",
    "    return dist"
   ]
  },
  {
   "cell_type": "code",
   "execution_count": 16,
   "metadata": {
    "executionInfo": {
     "elapsed": 15,
     "status": "ok",
     "timestamp": 1742279273171,
     "user": {
      "displayName": "Ngungui Mazembe",
      "userId": "16166709129145843835"
     },
     "user_tz": -180
    },
    "id": "9T3Pkpo2Ski0"
   },
   "outputs": [],
   "source": [
    "#Алгоритм Дейкстры (поиск кратчайших путей от одной вершины графа ко всем остальным)\n",
    "def dijkstra(adj_matrix, start): # Ф-ия принимает на вход матрицу смежности\n",
    "    num_nodes = len(adj_matrix) #  Определяет количество вершин в графе\n",
    "    distances = {node: float('inf') for node in range(num_nodes)} # Создает словарь, который будет хранить кратчайшие расстояния от начальной вершины до каждой вершины\n",
    "    distances[start] = 0 # Устанавливает расстояние от начальной вершины до самой себя равным 0.\n",
    "    priority_queue = [(0, start)] # Создает приоритетную очередь priority_queue (реализованную с помощью кучи) для хранения вершин, которые нужно посетить\n",
    "    while priority_queue: # Основной цикл алгоритма. Он выполняется до тех пор, пока приоритетная очередь не станет пустой\n",
    "        current_distance, current_node = heapq.heappop(priority_queue) # Извлекает из приоритетной очереди вершину с наименьшим текущим расстоянием\n",
    "        if current_distance > distances[current_node]: # Проверяет, не является ли текущее расстояние до вершины больше, чем уже известное кратчайшее расстояние\n",
    "            continue\n",
    "        for neighbor in range(num_nodes): # Перебирает всех соседей текущей вершины\n",
    "            weight = adj_matrix[current_node][neighbor] # Получает вес ребра между данными знач из матрицы смежности.\n",
    "            if weight > 0: # Проверяет, существует ли ребро между данными знач. Вес больше 0 предполагает существование ребра.\n",
    "                distance = current_distance + weight # Вычисляет расстояние от начальной вершины до neighbor через current_node.\n",
    "                if distance < distances[neighbor]: # Проверяет, является ли вычисленное расстояние меньше, чем известное расстояние до данного знач\n",
    "                    distances[neighbor] = distance # Если новый путь короче, обновляет расстояние до данного знач в словаре\n",
    "                    heapq.heappush(priority_queue, (distance, neighbor)) # Добавляет данное знач в приоритетную очередь с новым расстоянием.\n",
    "    return distances"
   ]
  },
  {
   "cell_type": "code",
   "execution_count": 17,
   "metadata": {
    "executionInfo": {
     "elapsed": 47,
     "status": "ok",
     "timestamp": 1741863349598,
     "user": {
      "displayName": "Ngungui Mazembe",
      "userId": "16166709129145843835"
     },
     "user_tz": -180
    },
    "id": "b4rvV9RPSpQO"
   },
   "outputs": [],
   "source": [
    "#Алгоритм Беллмана-Форда (поиск кратчайших путей от одной вершины графа до всех остальных)\n",
    "def bellman_ford_fixed(adj_matrix, start): # Ф-ия принимает на вход матрицу смежности и индекс начальной вершины\n",
    "    num_nodes = len(adj_matrix) # Определяет количество вершин в графе\n",
    "    distances = {node: float('inf') for node in range(num_nodes)} # Создает словарь, который будет хранить кратчайшие расстояния от начальной вершины до каждой вершины\n",
    "    distances[start] = 0 # Устанавливает расстояние от начальной вершины до самой себя равным 0.\n",
    "    for _ in range(num_nodes - 1): # цикл, который повторяется num_nodes - 1 раз\n",
    "        for u in range(num_nodes): # цикл перебирает все вершины графа, рассматривая их как источник ребер\n",
    "            for v in range(num_nodes): # цикл перебирает все вершины графа, рассматривая их как целевые вершины ребер\n",
    "                weight = adj_matrix[u][v] # Получает вес ребра между данными вершинами\n",
    "                if weight > 0 and distances[u] != float('inf') and distances[u] + weight < distances[v]: # Если существует ребро из u в v и если достижима вершина u из начальной вершины и если можно улучшить расстояние до вершины v через ребро (u, v)\n",
    "                    distances[v] = distances[u] + weight # То, обновляет расстояние до вершины v\n",
    "    return {k: (v if v != float('inf') else 0) for k, v in distances.items()} # Строка исправляет ситуацию, когда вершина недостижима, и заменяет float('inf') на 0"
   ]
  },
  {
   "cell_type": "code",
   "execution_count": 18,
   "metadata": {
    "executionInfo": {
     "elapsed": 4,
     "status": "ok",
     "timestamp": 1742279270492,
     "user": {
      "displayName": "Ngungui Mazembe",
      "userId": "16166709129145843835"
     },
     "user_tz": -180
    },
    "id": "WzNw_UDNSxM6"
   },
   "outputs": [],
   "source": [
    "#Алгоритм Джонсона (поиск кратчайших путей между всеми парами вершин взвешенного ориентированного графа)\n",
    "def johnson_fixed(adj_matrix): # Ф-ия принимает на вход матрицу смежности \n",
    "    num_nodes = len(adj_matrix) # Определяет количество вершин в графе\n",
    "    new_matrix = np.zeros((num_nodes + 1, num_nodes + 1)) # Создает новую матрицу смежности размером (num_nodes + 1) x (num_nodes + 1), заполненную нулями. Эта матрица будет использоваться для добавления новой вершины s в граф\n",
    "    new_matrix[:num_nodes, :num_nodes] = adj_matrix # Копирует исходную матрицу смежности в верхний левый угол новой матрицы\n",
    "    for i in range(num_nodes): #  Добавляет новую вершину s (с индексом num_nodes) в граф\n",
    "        new_matrix[num_nodes, i] = 0 # Ребра от s ко всем остальным вершинам имеют вес 0\n",
    "    h = bellman_ford_fixed(new_matrix, num_nodes) # Вызывает ф-ию для вычисления расстояний от новой вершины s до всех остальных вершин в расширенном графе\n",
    "    new_adj_matrix = adj_matrix.copy() # Создает копию исходной матрицы смежности\n",
    "    for u in range(num_nodes): # цикл перебирает все вершины графа, рассматривая их как источник ребер\n",
    "        for v in range(num_nodes): # цикл перебирает все вершины графа, рассматривая их как целевые вершины ребер\n",
    "            if new_adj_matrix[u, v] > 0 and u in h and v in h: # Если существует ребро от вершины u к вершине v и мы убеждаемся, что у вершин u и v есть вычисленный потенциал h\n",
    "                new_adj_matrix[u, v] += h[u] - h[v] # То, Пересчитывает вес ребра от вершины u к вершине v с использованием потенциалов h\n",
    "    distances = np.zeros((num_nodes, num_nodes)) #  Создает матрицу размером num_nodes x num_nodes для хранения кратчайших расстояний между всеми парами вершин\n",
    "    for u in range(num_nodes): # цикл, который перебирает все вершины u графа. Для каждой вершины u вычисляются кратчайшие пути до всех остальных вершин\n",
    "        distances[u] = list(dijkstra(new_adj_matrix, u).values()) # список расстояний присваивается элементу distances[u], тобеж словарю\n",
    "    return distances"
   ]
  },
  {
   "cell_type": "code",
   "execution_count": 19,
   "metadata": {
    "executionInfo": {
     "elapsed": 8,
     "status": "ok",
     "timestamp": 1742279268665,
     "user": {
      "displayName": "Ngungui Mazembe",
      "userId": "16166709129145843835"
     },
     "user_tz": -180
    },
    "id": "fmk-bfW8S1Nk"
   },
   "outputs": [],
   "source": [
    "#Алгоритм Левита (поиск кратчайшего расстояние от одной из вершин графа до всех остальных)\n",
    "def levit(adj_matrix, start): # Определяет ф-ию, принимающую матрицу смежности и начальную вершину в качестве аргументов\n",
    "    num_nodes = len(adj_matrix) # Определяет количество вершин в графе\n",
    "    distances = {i: float('inf') for i in range(num_nodes)} # Создает словарь, где ключами являются номера вершин (от 0 до num_nodes - 1)\n",
    "    distances[start] = 0 # Расстояние от начальной вершины до самой себя устанавливается в 0\n",
    "    main_queue = [] # Создает пустой список, тобеж очередь для хранения вершин, которые нужно посетить\n",
    "    urgent_queue = [] # Создает пустой список, тобеж очередь для хранения вершин, которые нужно обработать приоритетно\n",
    "    main_queue.append(start) # Добавляет начальную вершину в main_queue,чтобы пошёл поиск кратчайших путей\n",
    "    while main_queue or urgent_queue: # цикл работает до тех пор, пока обе очереди не станут пустыми\n",
    "        if urgent_queue: # есть ли вершины в urgent_queue\n",
    "            u = urgent_queue.pop(0) #  Если urgent_queue не пуста, извлекает первую вершину (u) из urgent_queue\n",
    "        else:\n",
    "            u = main_queue.pop(0) # Извлекает первую вершину (u) из main_queue\n",
    "        for v in range(num_nodes): # Перебирает все вершины v в графе\n",
    "            weight = adj_matrix[u][v] # Получает вес ребра между вершинами u и v из матрицы смежности\n",
    "            if weight > 0: # Если вес больше 0\n",
    "                if distances[v] == float('inf'): # Если расстояние до вершины v все еще равно бесконечности\n",
    "                    distances[v] = distances[u] + weight # Обновляет расстояние до вершины v как сумму расстояния до вершины u и веса ребра между u и v\n",
    "                    main_queue.append(v) # Добавляет вершину v в main_queue, чтобы была обработана позже\n",
    "                elif distances[v] > distances[u] + weight: # Если текущее расстояние до v больше, чем расстояние до u плюс вес ребра между u и v\n",
    "                    distances[v] = distances[u] + weight # Обновляет расстояние до вершины v более коротким значением\n",
    "                    urgent_queue.append(v) # Добавляет вершину v в urgent_queue, ее соседей нужно пересмотреть приоритетно\n",
    "    return distances "
   ]
  },
  {
   "cell_type": "code",
   "execution_count": 20,
   "metadata": {},
   "outputs": [],
   "source": [
    "#Алгоритм Йена (поиск K-кратчайших путей без циклов в графе с неотрицательными длинами рёбер)\n",
    "import heapq\n",
    "\n",
    "def yen_k_shortest_paths(graph, start, end, k=3): # Определяет ф-ию, которая должна находить k кратчайших путей между вершинами start и end в графе graph\n",
    "    def dijkstra_modified(g, src, dst, forbidden_edges): # Определяет ф-ию, модифицированная версия алгоритма Дейкстры. Она находит кратчайший путь между вершинами в графе g, избегая указанных ребер в forbidden_edges \n",
    "        n = len(g) # Определяет количество вершин в графе g\n",
    "        dist = [float('inf')] * n # Создает список для хранения расстояний от начальной вершины (src) до всех остальных вершин\n",
    "        dist[src] = 0 # Расстояние от начальной вершины до самой себя устанавливается в 0\n",
    "        prev = [-1] * n # Создает список для хранения предыдущей вершины на кратчайшем пути от src до каждой вершины [предыдущая вершина пока не известна]\n",
    "        heap = [(0, src)] # Создает приоритетную очередь (кучу), куча содержит пары (d, u), где d - это текущее расстояние от src до вершины u. Изначально в кучу добавляется только начальная вершина src с расстоянием 0\n",
    "        \n",
    "        while heap: # цикл работает до тех пор, пока куча не станет пустой\n",
    "            d, u = heapq.heappop(heap) # Извлекает вершину u с наименьшим расстоянием d из кучи. Далее удаляя и возвращая наименьший элемент из кучи\n",
    "            if u == dst: # Если извлеченная вершина u является целевой вершиной dst\n",
    "                break\n",
    "            if d > dist[u]: # Если текущее расстояние d до вершины u, извлеченной из кучи, больше, чем уже кратчайшее расстояние dist[u]\n",
    "                continue\n",
    "            for v in range(n): # Перебирает все соседние вершины v вершины u\n",
    "                if g[u][v] > 0 and (u, v) not in forbidden_edges: # Если существет вес ребра больше 0 и если не запрещено ребро (u, v)\n",
    "                    if dist[v] > dist[u] + g[u][v]: # Если найдено более короткое расстояние до вершины v через вершину u\n",
    "                        dist[v] = dist[u] + g[u][v] # Обновляет расстояние до вершины v\n",
    "                        prev[v] = u # Устанавливает вершину u как предыдущую вершину на кратчайшем пути до v\n",
    "                        heapq.heappush(heap, (dist[v], v)) # Добавляет вершину v в кучу с новым расстоянием\n",
    "        \n",
    "        if dist[dst] == float('inf'): # После завершения цикла проверяет, было ли найдено какое-либо расстояние до целевой вершины dst\n",
    "            return None\n",
    "        path = [] # Если путь найден, создает пустой список для хранения вершин на кратчайшем пути\n",
    "        u = dst # Начинает построение пути с целевой вершины dst\n",
    "        while u != -1: # Выполняет цикл, пока не достигнет начальной вершины src \n",
    "            path.append(u) # Добавляет текущую вершину u в путь\n",
    "            u = prev[u] # Переходит к предыдущей вершине на пути\n",
    "        return path[::-1] # Возвращает путь в обратном порядке от начальной вершины до целевой вершины\n",
    "\n",
    "    # (Первый путь)\n",
    "    A = [dijkstra_modified(graph, start, end, set())] # Находит первый кратчайший путь между вершинами start и end в графе graph с использованием функции \n",
    "    if not A[0]: # Проверяет, был ли найден какой-либо путь\n",
    "        return [] # ф-ия возвращает пустой список, если путь не найден\n",
    "    \n",
    "    #(Куча для кандидатов)\n",
    "    B = [] # пустой список\n",
    "\n",
    "    for _ in range(1, k): # цикл выполняется k-1 раз (начиная с 1), чтобы найти оставшиеся k-1 кратчайших путей\n",
    "        for i in range(len(A[-1]) - 1): # цикл перебирает все ребра в последнем найденном кратчайшем пути\n",
    "            spur_node = A[-1][i] # Определяет i-ую вершину в последнем найденном кратчайшем пути, от которой будет искаться альтернативный путь\n",
    "            root_path = A[-1][:i+1] # Определяет часть последнего найденного кратчайшего пути от начальной вершины до spur_node\n",
    "            \n",
    "            # (Запрещаем рёбра из предыдущих путей)\n",
    "            banned_edges = set() # Инициализирует множество для хранения запрещенных ребер\n",
    "            for p in A: # цикл перебирает все уже найденные кратчайшие пути в списке\n",
    "                if len(p) > i and p[:i+1] == root_path and i+1 < len(p): # Если длинный, чтобы иметь вершину с индексом i и если имеет корневой путь, что и текущий путь и если у пути есть следующее ребро после spur_node\n",
    "                    banned_edges.add((p[i], p[i+1])) # Если всё выполнено, добавляет ребро, следующее за spur_node в текущем пути p, в множество\n",
    "            \n",
    "            spur_path = dijkstra_modified(graph, spur_node, end, banned_edges) # Находит от spur_node до конечной вершины end, избегая указанных ребер\n",
    "            if spur_path:\n",
    "                full_path = root_path[:-1] + spur_path # Если spur_path был найден, создает полный путь (full_path), объединяя root_path\n",
    "                cost = sum(graph[full_path[j]][full_path[j+1]] for j in range(len(full_path)-1)) # Вычисляет стоимость full_path как сумму весов ребер вдоль пути\n",
    "                heapq.heappush(B, (cost, full_path)) # Добавляет full_path в кучу B с ключом, равным стоимости пути\n",
    "        \n",
    "        if not B: # Проверка пуста ли куча\n",
    "            break\n",
    "        A.append(heapq.heappop(B)[1]) # Извлекает путь с наименьшей стоимостью из кучи B, удаляет и возвращает элемент с наименьшим ключом, путь добавляется в список A\n",
    "\n",
    "    return A[:k] # Возвращает первые k путей из списка A"
   ]
  },
  {
   "cell_type": "code",
   "execution_count": 21,
   "metadata": {
    "executionInfo": {
     "elapsed": 4,
     "status": "ok",
     "timestamp": 1742279265011,
     "user": {
      "displayName": "Ngungui Mazembe",
      "userId": "16166709129145843835"
     },
     "user_tz": -180
    },
    "id": "DNfb9xcLWRwY"
   },
   "outputs": [],
   "source": [
    "#Анализ производительности\n",
    "def analyze_final_corrected_algorithms(adj_matrix): # Определяет ф-ию, принимающую матрицу смежности\n",
    "    num_nodes = len(adj_matrix) # Определяет количество вершин в графе, используя размер матрицы смежности\n",
    "    algorithms = {\n",
    "        'Флойда-Уоршелла': floyd_warshall,\n",
    "        'Дейкстры': lambda mat: dijkstra(mat, 0),\n",
    "        'Беллмана-Форда': lambda mat: bellman_ford_fixed(mat, 0),\n",
    "        'Джонсона': johnson_fixed,\n",
    "        'Левита': lambda mat: levit(mat, 0),\n",
    "        'Йена': lambda mat: yen_k_shortest_paths(mat, 0, len(mat), 3)\n",
    "    } # Создает словарь, который связывает названия алгоритмов (строки) с соответствующими функциями\n",
    "    results = [] # пустой список\n",
    "    for algo_name, algo_func in algorithms.items(): # Перебирает данные пары в словаре algorithms\n",
    "        start_time = time.perf_counter_ns() # Измеряет время начала выполнения алгоритма\n",
    "        elapsed_time = time.perf_counter_ns() - start_time\n",
    "        results.append((algo_name, num_nodes, elapsed_time)) # Добавляет пакет с информацией об алгоритме в список\n",
    "    df = pd.DataFrame(results, columns=['Алгоритм', 'Ноды', 'Время (ns)']) # Создает pandas DataFrame из списка results\n",
    "    return df"
   ]
  },
  {
   "cell_type": "code",
   "execution_count": 22,
   "metadata": {
    "executionInfo": {
     "elapsed": 43,
     "status": "ok",
     "timestamp": 1742281141514,
     "user": {
      "displayName": "Ngungui Mazembe",
      "userId": "16166709129145843835"
     },
     "user_tz": -180
    },
    "id": "B6z8NT-yZnwk"
   },
   "outputs": [
    {
     "name": "stdout",
     "output_type": "stream",
     "text": [
      "Test matrix\n",
      "[0, 1, 0, 0, 0, 0, 0, 0, 0, 0, 0]\n",
      "[1, 0, 2, 0, 0, 0, 0, 5, 0, 0, 0]\n",
      "[0, 2, 0, 3, 0, 0, 0, 0, 0, 0, 0]\n",
      "[0, 0, 3, 0, 4, 0, 0, 0, 0, 0, 0]\n",
      "[0, 0, 0, 4, 0, 5, 0, 0, 0, 0, 0]\n",
      "[0, 0, 0, 0, 5, 0, 6, 0, 0, 0, 0]\n",
      "[0, 0, 0, 0, 0, 6, 0, 7, 0, 7, 0]\n",
      "[0, 0, 0, 0, 0, 0, 7, 0, 8, 0, 0]\n",
      "[0, 0, 0, 0, 0, 0, 0, 8, 0, 9, 0]\n",
      "[0, 0, 0, 0, 0, 0, 0, 0, 9, 0, 10]\n",
      "[0, 0, 0, 0, 0, 0, 0, 0, 0, 10, 0]\n"
     ]
    }
   ],
   "source": [
    "#Определение матрицы смежности тестов\n",
    "with open(\"graphLab3.txt\", \"r\") as file:\n",
    "    source = file.read().strip().split(\"\\n\")\n",
    "    test_adj_matrix = [] # пустой список\n",
    "    for line in source: # Перебирает каждую строку в списке source\n",
    "        a = [int(x) for x in line.split(\" \")] # Разделяет строку line на отдельные числа и преобразует их в целые числа\n",
    "        test_adj_matrix.append(a) # Добавляет список целых чисел a (представляющий одну строку матрицы) в список\n",
    "showed_test_adj_matrix = test_adj_matrix # Создает копию списка, предназначеную для использования с библиотекой, использующаяся для визуализации графа\n",
    "\n",
    "print(\"Test matrix\")\n",
    "print(*test_adj_matrix, sep=\"\\n\", end=\"\\n\") # Выводит содержимое матрицы смежности\n",
    "\n",
    "test_adj_matrix = np.array(test_adj_matrix) # Преобразует список списков\n"
   ]
  },
  {
   "cell_type": "code",
   "execution_count": 27,
   "metadata": {
    "colab": {
     "base_uri": "https://localhost:8080/",
     "height": 158
    },
    "executionInfo": {
     "elapsed": 7,
     "status": "error",
     "timestamp": 1741863325327,
     "user": {
      "displayName": "Ngungui Mazembe",
      "userId": "16166709129145843835"
     },
     "user_tz": -180
    },
    "id": "9I3KmpFzWlxF",
    "outputId": "09125955-849a-4d29-a3a2-2903bed31452"
   },
   "outputs": [
    {
     "data": {
      "text/html": [
       "<div>\n",
       "<style scoped>\n",
       "    .dataframe tbody tr th:only-of-type {\n",
       "        vertical-align: middle;\n",
       "    }\n",
       "\n",
       "    .dataframe tbody tr th {\n",
       "        vertical-align: top;\n",
       "    }\n",
       "\n",
       "    .dataframe thead th {\n",
       "        text-align: right;\n",
       "    }\n",
       "</style>\n",
       "<table border=\"1\" class=\"dataframe\">\n",
       "  <thead>\n",
       "    <tr style=\"text-align: right;\">\n",
       "      <th></th>\n",
       "      <th>Алгоритм</th>\n",
       "      <th>Ноды</th>\n",
       "      <th>Время (ns)</th>\n",
       "    </tr>\n",
       "  </thead>\n",
       "  <tbody>\n",
       "    <tr>\n",
       "      <th>0</th>\n",
       "      <td>Флойда-Уоршелла</td>\n",
       "      <td>11</td>\n",
       "      <td>1300</td>\n",
       "    </tr>\n",
       "    <tr>\n",
       "      <th>1</th>\n",
       "      <td>Дейкстры</td>\n",
       "      <td>11</td>\n",
       "      <td>600</td>\n",
       "    </tr>\n",
       "    <tr>\n",
       "      <th>2</th>\n",
       "      <td>Беллмана-Форда</td>\n",
       "      <td>11</td>\n",
       "      <td>400</td>\n",
       "    </tr>\n",
       "    <tr>\n",
       "      <th>3</th>\n",
       "      <td>Джонсона</td>\n",
       "      <td>11</td>\n",
       "      <td>400</td>\n",
       "    </tr>\n",
       "    <tr>\n",
       "      <th>4</th>\n",
       "      <td>Левита</td>\n",
       "      <td>11</td>\n",
       "      <td>400</td>\n",
       "    </tr>\n",
       "    <tr>\n",
       "      <th>5</th>\n",
       "      <td>Йена</td>\n",
       "      <td>11</td>\n",
       "      <td>400</td>\n",
       "    </tr>\n",
       "  </tbody>\n",
       "</table>\n",
       "</div>"
      ],
      "text/plain": [
       "          Алгоритм  Ноды  Время (ns)\n",
       "0  Флойда-Уоршелла    11        1300\n",
       "1         Дейкстры    11         600\n",
       "2   Беллмана-Форда    11         400\n",
       "3         Джонсона    11         400\n",
       "4           Левита    11         400\n",
       "5             Йена    11         400"
      ]
     },
     "metadata": {},
     "output_type": "display_data"
    },
    {
     "name": "stdout",
     "output_type": "stream",
     "text": [
      "graph.html\n"
     ]
    },
    {
     "data": {
      "text/plain": [
       "0"
      ]
     },
     "execution_count": 27,
     "metadata": {},
     "output_type": "execute_result"
    }
   ],
   "source": [
    "df_final_corrected_analysis = analyze_final_corrected_algorithms(test_adj_matrix) # Вызывает ф-ию, передавая ей в качестве аргумента данную переменную\n",
    "display(df_final_corrected_analysis) # Отображает DataFrame\n",
    "\n",
    "from pyvis import network as net # Импортирует модуль network из библиотеки визуальных графов, используя псевдоним net\n",
    "import os\n",
    "\n",
    "g = net.Network(notebook=True, bgcolor=\"#FFFFFF\", cdn_resources=\"remote\") # Создает объект Network из библиотеки pyvis\n",
    "# Добавляет вершины в граф\n",
    "g.add_nodes(\n",
    "    list(range(len(showed_test_adj_matrix))), # Создает список номеров вершин\n",
    "    title=[str(x) for x in range(len(showed_test_adj_matrix))], # Создает список заголовков для вершин\n",
    "    label=[str(x) for x in range(len(showed_test_adj_matrix))], # Создает список меток для вершин\n",
    "    color=[\"#171717\" for _ in range(len(showed_test_adj_matrix))] # Создает список цветов для вершин\n",
    ")\n",
    "\n",
    "for a, line in enumerate(showed_test_adj_matrix): # Перебирает строки матрицы смежности, используя для получения индекса строки (a) и самой строки (line)\n",
    "    for b, dist in enumerate(line): # Перебирает элементы в строке line, используя для получения индекса столбца (b) и значения элемента (dist)\n",
    "        if a==b:\n",
    "            continue\n",
    "        if dist: # Если вес ребра больше 0 или имеет другое значение\n",
    "            g.add_edge(a, b, weight=dist) # То, добавляет ребро между вершинами a и b в граф g\n",
    "\n",
    "g.show(\"graph.html\") # Генерирует HTML-файл с визуализацией графа и сохраняет его\n",
    "os.system(\"graph.html\") # Открывает HTML-файл в браузере по умолчанию\n"
   ]
  },
  {
   "cell_type": "markdown",
   "metadata": {
    "id": "Wggfn8l7nG72"
   },
   "source": [
    "### Выполнение:"
   ]
  },
  {
   "cell_type": "code",
   "execution_count": null,
   "metadata": {
    "colab": {
     "base_uri": "https://localhost:8080/"
    },
    "executionInfo": {
     "elapsed": 4815,
     "status": "ok",
     "timestamp": 1742279249429,
     "user": {
      "displayName": "Ngungui Mazembe",
      "userId": "16166709129145843835"
     },
     "user_tz": -180
    },
    "id": "681a95mZnOSa",
    "outputId": "badd24f8-179e-4430-c609-0d0bad7f239d"
   },
   "outputs": [],
   "source": [
    "\n",
    "\n"
   ]
  },
  {
   "cell_type": "markdown",
   "metadata": {
    "id": "diOb-K7LnO5a"
   },
   "source": [
    "### Вывод"
   ]
  }
 ],
 "metadata": {
  "colab": {
   "provenance": [
    {
     "file_id": "1Ck-vM9D54Q-meeWYtZ5ydC9ufN0QbRUD",
     "timestamp": 1741816259320
    },
    {
     "file_id": "1PB29AfCQqtCPpQJrN1jpaKF1cw_5iEo0",
     "timestamp": 1679127006477
    }
   ]
  },
  "kernelspec": {
   "display_name": "Python 3",
   "language": "python",
   "name": "python3"
  },
  "language_info": {
   "codemirror_mode": {
    "name": "ipython",
    "version": 3
   },
   "file_extension": ".py",
   "mimetype": "text/x-python",
   "name": "python",
   "nbconvert_exporter": "python",
   "pygments_lexer": "ipython3",
   "version": "3.11.9"
  }
 },
 "nbformat": 4,
 "nbformat_minor": 0
}
