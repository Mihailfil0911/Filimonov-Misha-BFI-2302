{
 "cells": [
  {
   "cell_type": "markdown",
   "id": "fifteen-sailing",
   "metadata": {
    "id": "fifteen-sailing"
   },
   "source": [
    "# Лабораторная работа №1\n",
    "## Выполнил студент группы БФИ2302 Филимонов Михаил Алексеевич"
   ]
  },
  {
   "cell_type": "markdown",
   "id": "particular-syndicate",
   "metadata": {
    "id": "particular-syndicate"
   },
   "source": [
    "### Оглавление\n",
    "1. [Задание 1](#Задание-№1)\n",
    "2. [Задание 2](#Задание-№2)\n",
    "3. [Задание 3](#Задание-№3)\n",
    "4. [Вывод](#Вывод)"
   ]
  },
  {
   "cell_type": "markdown",
   "id": "arctic-stocks",
   "metadata": {
    "id": "arctic-stocks"
   },
   "source": [
    "### Задание №1\n",
    "<i> Вызвать функцию print() и передать туда строку Hello, World! </i>"
   ]
  },
  {
   "cell_type": "code",
   "execution_count": 1,
   "id": "caring-truck",
   "metadata": {
    "id": "caring-truck",
    "scrolled": true
   },
   "outputs": [
    {
     "name": "stdout",
     "output_type": "stream",
     "text": [
      "Hello, World!\n"
     ]
    }
   ],
   "source": [
    "print(\"Hello, World!\")"
   ]
  },
  {
   "cell_type": "markdown",
   "id": "maritime-conversation",
   "metadata": {
    "id": "maritime-conversation"
   },
   "source": [
    "### Задание №2\n",
    "Написать генератор случайных матриц(многомерных), который принимает\n",
    "опциональные параметры <b>m</b>, <b>n</b>, <b>min_limit</b>, <b>max_limit</b>, где <b>m</b> и <b>n</b> указывают размер\n",
    "матрицы, а <b>min_lim</b> и <b>max_lim</b> - минимальное и максимальное значение для\n",
    "генерируемого числа."
   ]
  },
  {
   "cell_type": "code",
   "execution_count": 1,
   "id": "alert-charm",
   "metadata": {
    "id": "alert-charm",
    "outputId": "c95dd9e7-d076-4718-b6fb-25f2e6bc03b9"
   },
   "outputs": [
    {
     "name": "stdout",
     "output_type": "stream",
     "text": [
      "Вывод матрицы:\n",
      "[5, 19, 2, 6, 7]\n",
      "[7, 10, 19, 2, 12]\n",
      "[4, 19, 15, 20, 6]\n",
      "[20, 2, 18, 6, 12]\n",
      "[11, 7, 19, 8, 15]\n"
     ]
    }
   ],
   "source": [
    "import random\n",
    "import time\n",
    "def generateRandomMatrix(m=None, n=None, min_limit=0, max_limit=100):\n",
    "    matrix = []\n",
    "    for i in range(m):\n",
    "        row = []\n",
    "        for j in range(n):\n",
    "            num = random.randint(min_limit, max_limit)  # случайное значение в заданном диапазоне\n",
    "            row.append(num)\n",
    "        matrix.append(row)\n",
    "    return matrix\n",
    "\n",
    "m = int(input(\"Введите количество строк матрицы: \"))\n",
    "n = int(input(\"Введите количество столбцов матрицы: \"))\n",
    "min_limit = int(input(\"Введите минимальное значение: \"))\n",
    "max_limit = int(input(\"Введите максимальное значение: \"))\n",
    "\n",
    "random_matrix = generateRandomMatrix(m, n, min_limit, max_limit)\n",
    "print(\"Вывод матрицы:\")\n",
    "for row in random_matrix:\n",
    "    print(row)"
   ]
  },
  {
   "cell_type": "markdown",
   "id": "catholic-roots",
   "metadata": {
    "id": "catholic-roots"
   },
   "source": [
    "### Задание №3\n",
    "Реализовать методы сортировки строк числовой матрицы в соответствии с\n",
    "заданием. Оценить время работы каждого алгоритма сортировки и сравнить его со\n",
    "временем стандартной функции сортировки. Испытания проводить на сгенерированных\n",
    "матрицах."
   ]
  },
  {
   "cell_type": "code",
   "execution_count": 10,
   "id": "opposed-creature",
   "metadata": {
    "id": "opposed-creature"
   },
   "outputs": [
    {
     "name": "stdout",
     "output_type": "stream",
     "text": [
      "Вывод матрицы:\n",
      "[19, 19, 9, 13, 12]\n",
      "[19, 4, 13, 15, 11]\n",
      "[10, 12, 3, 14, 18]\n",
      "[2, 4, 17, 6, 10]\n",
      "[16, 7, 3, 5, 5]\n"
     ]
    }
   ],
   "source": [
    "import random\n",
    "def generateRandomMatrix(m=None, n=None, min_limit=0, max_limit=100):\n",
    "    matrix = []\n",
    "    for i in range(m):\n",
    "        row = []\n",
    "        for j in range(n):\n",
    "            num = random.randint(min_limit, max_limit)  # случайное значение в заданном диапазоне\n",
    "            row.append(num)\n",
    "        matrix.append(row)\n",
    "    return matrix\n",
    "\n",
    "m = int(input(\"Введите количество строк матрицы: \"))\n",
    "n = int(input(\"Введите количество столбцов матрицы: \"))\n",
    "min_limit = int(input(\"Введите минимальное значение: \"))\n",
    "max_limit = int(input(\"Введите максимальное значение: \"))\n",
    "\n",
    "random_matrix = generateRandomMatrix(m, n, min_limit, max_limit)\n",
    "print(\"Вывод матрицы:\")\n",
    "for row in random_matrix:\n",
    "    print(row)"
   ]
  },
  {
   "cell_type": "code",
   "execution_count": 35,
   "id": "cleared-anniversary",
   "metadata": {
    "id": "cleared-anniversary",
    "outputId": "b7c76c60-4acb-4c14-9bfb-d4f8d71093a1"
   },
   "outputs": [
    {
     "name": "stdout",
     "output_type": "stream",
     "text": [
      "[[1, 6, 12, 12, 9], [4, 14, 3, 5, 2], [8, 8, 1, 9, 1], [9, 5, 2, 13, 11], [18, 8, 6, 3, 19]]\n"
     ]
    }
   ],
   "source": [
    "# Сортировка выбором.\n",
    "# Берётся срез массива, в котором минимальный элемент переносят в самый левый угол,\n",
    "# после чего срез уменьшается и цикл повторяется.\n",
    "\n",
    "def selection_sort(arr):\n",
    "    for i in range(len(arr)):\n",
    "        min_idx = i\n",
    "        for j in range(i+1, len(arr)):\n",
    "            if arr[j] < arr[min_idx]:\n",
    "                min_idx = j\n",
    "        arr[i], arr[min_idx] = arr[min_idx], arr[i]\n",
    "    return arr\n",
    "print(selection_sort(random_matrix))"
   ]
  },
  {
   "cell_type": "code",
   "execution_count": 36,
   "id": "roman-silly",
   "metadata": {
    "id": "roman-silly",
    "outputId": "84666b71-fb68-4c07-d27d-e716af29fcbb",
    "scrolled": true
   },
   "outputs": [
    {
     "name": "stdout",
     "output_type": "stream",
     "text": [
      "[[1, 6, 12, 12, 9], [4, 14, 3, 5, 2], [8, 8, 1, 9, 1], [9, 5, 2, 13, 11], [18, 8, 6, 3, 19]]\n"
     ]
    }
   ],
   "source": [
    "# Сортировка вставкой.\n",
    "\n",
    "def insertion_sort(arr):\n",
    "    for i in range(1, len(arr)):\n",
    "        key = arr[i]\n",
    "        j = i-1\n",
    "        while j >= 0 and key < arr[j]:\n",
    "            arr[j+1] = arr[j]\n",
    "            j -= 1\n",
    "        arr[j+1] = key\n",
    "    return arr\n",
    "print(insertion_sort(random_matrix))"
   ]
  },
  {
   "cell_type": "code",
   "execution_count": 38,
   "id": "vital-implementation",
   "metadata": {
    "id": "vital-implementation",
    "outputId": "7b648bf5-37a5-4d47-926d-b799f7a23be2"
   },
   "outputs": [
    {
     "name": "stdout",
     "output_type": "stream",
     "text": [
      "[[1, 1, 19, 8, 2], [3, 2, 12, 5, 20], [3, 17, 1, 11, 8], [4, 5, 8, 12, 3], [11, 20, 7, 8, 4]]\n"
     ]
    }
   ],
   "source": [
    "# Сортировка обменом. || Сортировка пузырьком.\n",
    "\n",
    "def bubble_sort(arr):\n",
    "    n = len(arr)\n",
    "    for i in range(n-1):\n",
    "        for j in range(0, n-i-1):\n",
    "            if arr[j] > arr[j+1]:\n",
    "                arr[j], arr[j+1] = arr[j+1], arr[j]\n",
    "    return arr\n",
    "print(bubble_sort(random_matrix))"
   ]
  },
  {
   "cell_type": "code",
   "execution_count": 42,
   "id": "veterinary-glory",
   "metadata": {
    "id": "veterinary-glory",
    "outputId": "9cc2a9ff-ec7a-43de-e4a8-47945d030986"
   },
   "outputs": [
    {
     "name": "stdout",
     "output_type": "stream",
     "text": [
      "[[10, 18, 9, 18, 5], [14, 3, 14, 20, 20], [15, 2, 18, 18, 7], [15, 6, 8, 8, 2], [18, 18, 15, 2, 6]]\n"
     ]
    }
   ],
   "source": [
    "# Сортировка Шелла.\n",
    "\n",
    "def shell_sort(arr):\n",
    "    n = len(arr)\n",
    "    gap = n // 2\n",
    "    while gap > 0:\n",
    "        for i in range(gap, n):\n",
    "            temp = arr[i]\n",
    "            j = i\n",
    "            while j >= gap and arr[j-gap] > temp:\n",
    "                arr[j] = arr[j-gap]\n",
    "                j -= gap\n",
    "            arr[j] = temp\n",
    "        gap //= 2\n",
    "    return arr\n",
    "print(shell_sort(random_matrix))"
   ]
  },
  {
   "cell_type": "code",
   "execution_count": 44,
   "id": "correct-chaos",
   "metadata": {
    "id": "correct-chaos",
    "outputId": "f4d9aef1-8a2f-46a0-def0-4c9e049f5c77"
   },
   "outputs": [
    {
     "name": "stdout",
     "output_type": "stream",
     "text": [
      "[[6, 11, 9, 7, 11], [9, 5, 11, 3, 12], [11, 1, 4, 4, 6], [17, 6, 14, 4, 15], [20, 20, 2, 12, 17]]\n"
     ]
    }
   ],
   "source": [
    "# Быстрая сортировка.\n",
    "\n",
    "def quick_sort(arr):\n",
    "    if len(arr) <= 1:\n",
    "        return arr\n",
    "    pivot = arr[len(arr)//2]\n",
    "    left = [x for x in arr if x < pivot]\n",
    "    middle = [x for x in arr if x == pivot]\n",
    "    right = [x for x in arr if x > pivot]\n",
    "    return quick_sort(left) + middle + quick_sort(right)\n",
    "print(quick_sort(random_matrix))"
   ]
  },
  {
   "cell_type": "code",
   "execution_count": null,
   "id": "french-czech",
   "metadata": {
    "colab": {
     "base_uri": "https://localhost:8080/",
     "height": 217
    },
    "executionInfo": {
     "elapsed": 433,
     "status": "error",
     "timestamp": 1645638345253,
     "user": {
      "displayName": "Sergey Simonov",
      "photoUrl": "https://lh3.googleusercontent.com/a-/AOh14GhQdeIfzzsg8bfb7DLHaLzEFH8Ebg2FyuaL9YoQyA=s64",
      "userId": "14094206399671235086"
     },
     "user_tz": -180
    },
    "id": "french-czech",
    "outputId": "7e38b779-8bbf-4955-c3ad-2a6be0ee386a"
   },
   "outputs": [
    {
     "name": "stdout",
     "output_type": "stream",
     "text": [
      "[[2, 4, 17, 6, 10], [10, 12, 3, 14, 18], [16, 7, 3, 5, 5], [19, 4, 13, 15, 11], [19, 19, 9, 13, 12]]\n"
     ]
    }
   ],
   "source": [
    "# Турнирная сортировка.\n",
    "# В каждом матче сравниваются игроки, и победитель переходит в следующий раунд. Турнир определяет лучшего игрока, но игрок, проигравший в финальном матче, может не быть вторым лучшим - он может уступать другим игрокам, которых победил победитель.\n",
    "def tournament_sort(arr):\n",
    "    def heapify(arr, n, i):\n",
    "        largest = i\n",
    "        l = 2 * i + 1\n",
    "        r = 2 * i + 2\n",
    "        if l < n and arr[i] < arr[l]:\n",
    "            largest = l\n",
    "        if r < n and arr[largest] < arr[r]:\n",
    "            largest = r\n",
    "        if largest != i:\n",
    "            arr[i], arr[largest] = arr[largest], arr[i]\n",
    "            heapify(arr, n, largest)\n",
    "\n",
    "    def build_max_heap(arr):\n",
    "        n = len(arr)\n",
    "        for i in range(n // 2 - 1, -1, -1):\n",
    "            heapify(arr, n, i)\n",
    "\n",
    "    n = len(arr)\n",
    "    build_max_heap(arr)\n",
    "    for i in range(n - 1, 0, -1):\n",
    "        arr[0], arr[i] = arr[i], arr[0]\n",
    "        heapify(arr, i, 0)\n",
    "    \n",
    "    return arr \n",
    "\n",
    "print(tournament_sort(random_matrix))"
   ]
  },
  {
   "cell_type": "markdown",
   "id": "rental-jerusalem",
   "metadata": {
    "id": "rental-jerusalem"
   },
   "source": [
    "### Вывод\n"
   ]
  },
  {
   "cell_type": "markdown",
   "id": "9d108a0a",
   "metadata": {
    "id": "9d108a0a"
   },
   "source": []
  }
 ],
 "metadata": {
  "colab": {
   "provenance": []
  },
  "kernelspec": {
   "display_name": "Python 3",
   "language": "python",
   "name": "python3"
  },
  "language_info": {
   "codemirror_mode": {
    "name": "ipython",
    "version": 3
   },
   "file_extension": ".py",
   "mimetype": "text/x-python",
   "name": "python",
   "nbconvert_exporter": "python",
   "pygments_lexer": "ipython3",
   "version": "3.11.9"
  }
 },
 "nbformat": 4,
 "nbformat_minor": 5
}
