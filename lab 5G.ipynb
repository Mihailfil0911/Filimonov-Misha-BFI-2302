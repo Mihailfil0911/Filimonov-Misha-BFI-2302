{
 "cells": [
  {
   "attachments": {},
   "cell_type": "markdown",
   "id": "db4b50f0",
   "metadata": {
    "id": "db4b50f0"
   },
   "source": [
    "# Лабораторная работа №5\n",
    "## Выполнил студент группы БФИ2302 Филимонов Михаил Алексеевич"
   ]
  },
  {
   "attachments": {},
   "cell_type": "markdown",
   "id": "annual-symbol",
   "metadata": {
    "id": "annual-symbol"
   },
   "source": [
    "### Оглавление\n",
    "1. [Задание 1](#Задание-№1)\n",
    "2. [Задание 2](#Задание-№2)\n",
    "4. [Вывод](#Вывод)"
   ]
  },
  {
   "attachments": {},
   "cell_type": "markdown",
   "id": "independent-spirit",
   "metadata": {
    "id": "independent-spirit"
   },
   "source": [
    "> Дополнительные модули, использованные при выполнение лабораторной"
   ]
  },
  {
   "cell_type": "code",
   "execution_count": 1,
   "id": "4839be2b",
   "metadata": {
    "id": "4839be2b"
   },
   "outputs": [],
   "source": [
    "# Необходим при замере скорости выполнения кода\n",
    "from datetime import datetime as t\n",
    "# Нужен для создания словаря в алг. Бойера-Мура\n",
    "from collections import defaultdict"
   ]
  },
  {
   "attachments": {},
   "cell_type": "markdown",
   "id": "inclusive-motorcycle",
   "metadata": {
    "id": "inclusive-motorcycle"
   },
   "source": [
    "### Задание №1\n",
    "Реализовать методы поиска подстроки в строке. Добавить возможность ввода строки и подстроки с клавиатуры. Предусмотреть возможность существования пробела. Реализовать возможность выбора опции чувствительности или нечувствительности к регистру. Оценить время работы каждого алгоритма поиска и сравнить его со временем работы стандартной функции поиска, используемой в выбранном языке программирования."
   ]
  },
  {
   "attachments": {},
   "cell_type": "markdown",
   "id": "interracial-communication",
   "metadata": {
    "id": "interracial-communication"
   },
   "source": [
    "#### Алгоритм Кнута-Морриса-Пратта"
   ]
  },
  {
   "cell_type": "code",
   "execution_count": null,
   "id": "presidential-level",
   "metadata": {
    "id": "presidential-level"
   },
   "outputs": [
    {
     "name": "stdout",
     "output_type": "stream",
     "text": [
      "\n",
      "Результаты поиска:\n",
      "Алгоритм КМП: [], время: 0.000000 секунд\n",
      "Стандартный поиск: [], время: 0.000000 секунд\n"
     ]
    }
   ],
   "source": [
    "import time\n",
    "\n",
    "# Реализация алгоритма Кнута-Морриса-Пратта (КМП) (оптимизации поиска подстроки в строке за счёт предварительной обработки образца и «умных» сдвигов)\n",
    "# (Сравнение строк слева направо и сдвиг на вычисляемое число позиций)\n",
    "def kmp_search(text, pattern, case_sensitive=True):\n",
    "    # Если регистр не важен, приводим обе строки к нижнему регистру\n",
    "    if not case_sensitive:\n",
    "        text = text.lower()\n",
    "        pattern = pattern.lower()\n",
    "\n",
    "    # Функция для создания префикс-функции (также известной как таблица \"частичных совпадений\")\n",
    "    def compute_prefix_function(pattern):\n",
    "        prefix = [0] * len(pattern)  # Инициализируем префикс-функцию нулями\n",
    "        j = 0  # j - индекс для отслеживания длины текущего префикса/суффикса\n",
    "        for i in range(1, len(pattern)): # Начинаем с 1, т.к. prefix[0] всегда 0\n",
    "            # Пока j > 0 и текущий символ в pattern не совпадает с символом на позиции j\n",
    "            while j > 0 and pattern[i] != pattern[j]:\n",
    "                # Перемещаемся к предыдущему меньшему префиксу, используя значение префикс-функции\n",
    "                j = prefix[j - 1]\n",
    "            # Если символы совпадают, увеличиваем длину префикса/суффикса\n",
    "            if pattern[i] == pattern[j]:\n",
    "                j += 1\n",
    "            # Записываем длину наибольшего префикса/суффикса для текущей позиции i\n",
    "            prefix[i] = j\n",
    "        return prefix\n",
    "\n",
    "    prefix = compute_prefix_function(pattern) # Вычисляем префикс-функцию для паттерна\n",
    "    j = 0 # j - индекс для отслеживания текущей позиции в pattern\n",
    "    occurrences = [] # Список для хранения индексов вхождений\n",
    "\n",
    "    for i in range(len(text)): # Итерируемся по тексту\n",
    "        # Пока j > 0 и текущий символ в text не совпадает с символом на позиции j в pattern\n",
    "        while j > 0 and text[i] != pattern[j]:\n",
    "            # Перемещаемся к предыдущему меньшему префиксу, используя значение префикс-функции\n",
    "            j = prefix[j - 1]\n",
    "        # Если символы совпадают, увеличиваем индекс j (переходим к следующему символу в pattern)\n",
    "        if text[i] == pattern[j]:\n",
    "            j += 1\n",
    "        # Если j равно длине pattern, значит, мы нашли вхождение\n",
    "        if j == len(pattern):\n",
    "            # Добавляем индекс начала вхождения в список occurrences\n",
    "            occurrences.append(i - (j - 1))\n",
    "            # Перемещаемся к предыдущему меньшему префиксу, чтобы найти другие возможные вхождения\n",
    "            j = prefix[j - 1]\n",
    "\n",
    "    return occurrences # Возвращаем список индексов вхождений\n",
    "\n",
    "# Функция для ввода строки и подстроки с консоли\n",
    "def input_string_and_substring():\n",
    "    text = input(\"Введите строку: \")\n",
    "    pattern = input(\"Введите подстроку: \")\n",
    "    case_sensitive = input(\"Чувствительность к регистру (y/n): \").lower() == 'y' # Определяем, важен ли регистр\n",
    "    return text, pattern, case_sensitive\n",
    "\n",
    "# Основная функция программы\n",
    "def main():\n",
    "    text, pattern, case_sensitive = input_string_and_substring() # Получаем входные данные\n",
    "\n",
    "    # Поиск с использованием алгоритма КМП\n",
    "    start_time = time.time() # Засекаем время начала работы КМП\n",
    "    kmp_result = kmp_search(text, pattern, case_sensitive) # Вызываем функцию КМП поиска\n",
    "    kmp_time = time.time() - start_time # Вычисляем время работы КМП\n",
    "\n",
    "    # Поиск с использованием стандартной функции Python\n",
    "    start_time = time.time() # Засекаем время начала работы стандартного поиска\n",
    "    if case_sensitive:\n",
    "        # Используем list comprehension и startswith для стандартного поиска с учетом регистра\n",
    "        standard_result = [i for i in range(len(text)) if text.startswith(pattern, i)]\n",
    "    else:\n",
    "        # Используем list comprehension и startswith для стандартного поиска без учета регистра\n",
    "        standard_result = [i for i in range(len(text)) if text.lower().startswith(pattern.lower(), i)]\n",
    "    standard_time = time.time() - start_time # Вычисляем время работы стандартного поиска\n",
    "\n",
    "    # Вывод результатов\n",
    "    print(\"\\nРезультаты поиска:\")\n",
    "    print(f\"Алгоритм КМП: {kmp_result}, время: {kmp_time:.6f} секунд\") # Выводим результаты КМП и время\n",
    "    print(f\"Стандартный поиск: {standard_result}, время: {standard_time:.6f} секунд\") # Выводим результаты стандартного поиска и время\n",
    "\n",
    "# Запускаем основную функцию, если скрипт запускается напрямую\n",
    "if __name__ == \"__main__\":\n",
    "    main()"
   ]
  },
  {
   "attachments": {},
   "cell_type": "markdown",
   "id": "downtown-option",
   "metadata": {
    "id": "downtown-option"
   },
   "source": [
    "#### Упрощенный алгоритм Бойера-Мура"
   ]
  },
  {
   "cell_type": "code",
   "execution_count": null,
   "id": "respective-reggae",
   "metadata": {
    "id": "respective-reggae"
   },
   "outputs": [
    {
     "name": "stdout",
     "output_type": "stream",
     "text": [
      "Найденные позиции: [4, 8]\n"
     ]
    }
   ],
   "source": [
    "#(упрощает работу за счёт использования таблицы смещений)\n",
    "# (Сравнение строк справа налево и сдвиг на вычисляемое число позиций)\n",
    "def boyer_moore_simple(text, pattern):\n",
    "    n = len(text)  # Длина текста\n",
    "    m = len(pattern)  # Длина подстроки\n",
    "    if m == 0:  # Если подстрока пустая, возвращаем пустой список\n",
    "        return []\n",
    "\n",
    "    # таблица сдвигов для неверного символа (bad character rule)\n",
    "    shift = {}  # Создаем пустой словарь для хранения сдвигов\n",
    "    for i in range(m - 1):  # Заполняем таблицу сдвигов для всех символов подстроки, кроме последнего\n",
    "        shift[pattern[i]] = m - i - 1  # Сдвиг равен расстоянию от символа до конца подстроки\n",
    "\n",
    "    # если символа нет в таблице, сдвигаем на всю длину подстроки\n",
    "    default_shift = m  # Сдвиг по умолчанию, если символ не найден в таблице\n",
    "\n",
    "    # поиск подстроки\n",
    "    i = 0  # Индекс для перебора текста\n",
    "    occurrences = []  # Список для хранения найденных позиций\n",
    "    while i <= n - m: # Пока не достигли конца текста (с учетом длины подстроки)\n",
    "        j = m - 1 # Индекс для перебора подстроки (начинаем с конца)\n",
    "        while j >= 0 and text[i + j] == pattern[j]: # Пока не дошли до начала подстроки и символы совпадают\n",
    "            j -= 1 # Переходим к предыдущему символу в подстроке\n",
    "        if j == -1: # Если дошли до начала подстроки, значит, нашли вхождение\n",
    "            occurrences.append(i) # Добавляем позицию в список\n",
    "            i += m # Сдвигаемся на длину подстроки (можно оптимизировать, но это простой вариант)\n",
    "        else:\n",
    "            # Символы не совпадают, применяем правило плохого символа\n",
    "            char = text[i + j] # Получаем символ из текста, который не совпал\n",
    "            if char in shift:  # Если символ есть в таблице сдвигов\n",
    "                i += shift[char] # Сдвигаемся на величину, указанную в таблице\n",
    "            else: # Если символа нет в таблице\n",
    "                i += default_shift # Сдвигаемся на длину подстроки\n",
    "\n",
    "    return occurrences # Возвращаем список найденных позиций\n",
    "\n",
    "text = \"ABAAABCDABC\"\n",
    "pattern = \"ABC\"\n",
    "result = boyer_moore_simple(text, pattern)\n",
    "print(\"Найденные позиции:\", result)"
   ]
  },
  {
   "attachments": {},
   "cell_type": "markdown",
   "id": "hybrid-memorial",
   "metadata": {
    "id": "hybrid-memorial"
   },
   "source": [
    "### Задание №2\n",
    "Написать программу, определяющую, является ли данное\n",
    "расположение «решаемым», то есть можно ли из него за конечное число\n",
    "шагов перейти к правильному. Если это возможно, то необходимо найти хотя\n",
    "бы одно решение - последовательность движений, после которой числа будут\n",
    "расположены в правильном порядке.\n",
    "#### Входные данные: массив чисел, представляющий собой расстановку в\n",
    "Порядке «слева направо, сверху вниз». Число 0 обозначает пустое поле.\n",
    "Например, массив [1, 2, 3, 4, 5, 6, 7, 8, 9, 10, 11, 12, 13, 14, 15, 0] представляет\n",
    "собой «решенную» позицию элементов.\n",
    "#### Выходные данные: если решения нет, то функция должна вернуть\n",
    "Пустой массив []. Если решение есть, то необходимо представить решение —\n",
    "для каждого шага записывается номер передвигаемого на данном шаге\n",
    "элемента. "
   ]
  },
  {
   "cell_type": "code",
   "execution_count": 2,
   "id": "eleven-generic",
   "metadata": {
    "id": "eleven-generic"
   },
   "outputs": [
    {
     "name": "stdout",
     "output_type": "stream",
     "text": [
      "Решение найдено! Последовательность шагов: [15]\n"
     ]
    }
   ],
   "source": [
    "# (упорядочить костяшки по возрастанию номеров, перемещая их внутри коробки, желательно сделав как можно меньше перемещений)\n",
    "from collections import deque\n",
    "\n",
    "# Функция для проверки, является ли головоломка решаемой\n",
    "def is_solvable(puzzle):\n",
    "    inversions = 0 # Начальное количество инверсий\n",
    "    n = len(puzzle) # Количество элементов в головоломке\n",
    "    for i in range(n): # Цикл по всем элементам головоломки\n",
    "        for j in range(i + 1, n): # Цикл по всем элементам после i\n",
    "            if puzzle[i] != 0 and puzzle[j] != 0 and puzzle[i] > puzzle[j]: # Если нашли инверсию\n",
    "                inversions += 1 # Увеличиваем счетчик инверсий\n",
    "    # Для головоломки 4x4:\n",
    "    # Если пустая клетка находится на чётной строке снизу, то количество инверсий должно быть нечётным.\n",
    "    # Если пустая клетка находится на нечётной строке снизу, то количество инверсий должно быть чётным.\n",
    "    empty_row = n // 4 - (puzzle.index(0) // 4) # Определяем номер строки (с конца), где находится пустая клетка\n",
    "    if empty_row % 2 == 0: # Если номер строки четный\n",
    "        return inversions % 2 != 0 # Головоломка решаема, если количество инверсий нечетно\n",
    "    else: # Если номер строки нечетный\n",
    "        return inversions % 2 == 0 # Головоломка решаема, если количество инверсий четно\n",
    "\n",
    "# Функция для поиска решения\n",
    "def solve_puzzle(puzzle):\n",
    "    if not is_solvable(puzzle):\n",
    "        return []  # Если головоломка нерешаема, возвращаем пустой список\n",
    "\n",
    "    target = [1, 2, 3, 4, 5, 6, 7, 8, 9, 10, 11, 12, 13, 14, 15, 0] # Целевое состояние головоломки\n",
    "    if puzzle == target:\n",
    "        return []  # Если головоломка уже решена, возвращаем пустой список\n",
    "\n",
    "    # Направления движения: вверх, вниз, влево, вправо\n",
    "    directions = [(-1, 0, 'up'), (1, 0, 'down'), (0, -1, 'left'), (0, 1, 'right')]\n",
    "\n",
    "    # Очередь для BFS\n",
    "    queue = deque()\n",
    "    queue.append((puzzle, []))  # текущее состояние, последовательность шагов\n",
    "\n",
    "    # Множество для хранения посещённых состояний\n",
    "    visited = set()\n",
    "    visited.add(tuple(puzzle)) # Добавляем начальное состояние в множество посещенных состояний\n",
    "\n",
    "    while queue: # Пока очередь не пуста\n",
    "        current, path = queue.popleft() # Извлекаем текущее состояние и путь из очереди\n",
    "        zero_index = current.index(0) # Находим индекс пустой клетки\n",
    "        zero_row, zero_col = zero_index // 4, zero_index % 4 # Вычисляем координаты пустой клетки\n",
    "\n",
    "        for dr, dc, move in directions: # Перебираем все возможные направления движения\n",
    "            new_row, new_col = zero_row + dr, zero_col + dc # Вычисляем координаты новой позиции пустой клетки\n",
    "            if 0 <= new_row < 4 and 0 <= new_col < 4: # Проверяем, находится ли новая позиция в пределах головоломки\n",
    "                new_index = new_row * 4 + new_col # Вычисляем индекс новой позиции\n",
    "                new_puzzle = current.copy() # Создаем копию текущего состояния головоломки\n",
    "                # Меняем местами 0 и соседний элемент\n",
    "                new_puzzle[zero_index], new_puzzle[new_index] = new_puzzle[new_index], new_puzzle[zero_index]\n",
    "                if tuple(new_puzzle) not in visited: # Если новое состояние еще не посещено\n",
    "                    if new_puzzle == target: # Если новое состояние является целевым\n",
    "                        return path + [current[new_index]]  # Возвращаем последовательность шагов\n",
    "                    visited.add(tuple(new_puzzle)) # Добавляем новое состояние в множество посещенных\n",
    "                    queue.append((new_puzzle, path + [current[new_index]])) # Добавляем новое состояние и путь в очередь\n",
    "\n",
    "    return []  # Если решение не найдено\n",
    "\n",
    "# Ввод данных\n",
    "puzzle = [1, 2, 3, 4, 5, 6, 7, 8, 9, 10, 11, 12, 13, 14, 0, 15]  # Пример входных данных\n",
    "\n",
    "# Решение головоломки\n",
    "solution = solve_puzzle(puzzle)\n",
    "if solution:\n",
    "    print(\"Решение найдено! Последовательность шагов:\", solution)\n",
    "else:\n",
    "    print(\"Решение не найдено.\")"
   ]
  },
  {
   "attachments": {},
   "cell_type": "markdown",
   "id": "arbitrary-amazon",
   "metadata": {
    "id": "arbitrary-amazon"
   },
   "source": [
    "### Вывод"
   ]
  },
  {
   "attachments": {},
   "cell_type": "markdown",
   "id": "71bc58bf",
   "metadata": {
    "id": "71bc58bf"
   },
   "source": []
  }
 ],
 "metadata": {
  "colab": {
   "provenance": []
  },
  "kernelspec": {
   "display_name": "Python 3",
   "language": "python",
   "name": "python3"
  },
  "language_info": {
   "codemirror_mode": {
    "name": "ipython",
    "version": 3
   },
   "file_extension": ".py",
   "mimetype": "text/x-python",
   "name": "python",
   "nbconvert_exporter": "python",
   "pygments_lexer": "ipython3",
   "version": "3.11.9"
  }
 },
 "nbformat": 4,
 "nbformat_minor": 5
}
